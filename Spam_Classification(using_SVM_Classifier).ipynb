{
  "nbformat": 4,
  "nbformat_minor": 0,
  "metadata": {
    "colab": {
      "name": "Spam_Classification(using SVM Classifier)",
      "provenance": [],
      "collapsed_sections": []
    },
    "kernelspec": {
      "name": "python3",
      "display_name": "Python 3"
    }
  },
  "cells": [
    {
      "cell_type": "code",
      "metadata": {
        "id": "jYZQVRyOo_nh",
        "colab_type": "code",
        "colab": {}
      },
      "source": [
        "import pandas as pd\n",
        "from sklearn.feature_extraction.text import CountVectorizer\n",
        "from sklearn import model_selection,svm\n",
        "from sklearn.model_selection import GridSearchCV"
      ],
      "execution_count": 0,
      "outputs": []
    },
    {
      "cell_type": "markdown",
      "metadata": {
        "id": "GH_5PnXtq_qF",
        "colab_type": "text"
      },
      "source": [
        "Step 1 - Load Dataset\n"
      ]
    },
    {
      "cell_type": "code",
      "metadata": {
        "id": "goPCr7rLp2jK",
        "colab_type": "code",
        "outputId": "ec1bd35e-74c7-4330-b713-66afafb7f272",
        "colab": {
          "base_uri": "https://localhost:8080/",
          "height": 34
        }
      },
      "source": [
        "from google.colab import drive\n",
        "drive.mount('/content/drive')\n",
        "dataframe = df = pd.read_csv('/content/drive/My Drive/Spam_Detection/spamEmails_SVM.csv')"
      ],
      "execution_count": 0,
      "outputs": [
        {
          "output_type": "stream",
          "text": [
            "Drive already mounted at /content/drive; to attempt to forcibly remount, call drive.mount(\"/content/drive\", force_remount=True).\n"
          ],
          "name": "stdout"
        }
      ]
    },
    {
      "cell_type": "markdown",
      "metadata": {
        "id": "bcLbJi78rFW1",
        "colab_type": "text"
      },
      "source": [
        "Step 2 - Split into training and testing dataset"
      ]
    },
    {
      "cell_type": "code",
      "metadata": {
        "id": "IInxRjSvqnKa",
        "colab_type": "code",
        "colab": {}
      },
      "source": [
        "train_x, valid_x, train_y, valid_y = model_selection.train_test_split(df['EmailText'], df['Label'])   #x - emails and Y - Labels (spam/ham)"
      ],
      "execution_count": 0,
      "outputs": []
    },
    {
      "cell_type": "markdown",
      "metadata": {
        "id": "SgTxfRRqrmpl",
        "colab_type": "text"
      },
      "source": [
        "Step 3 - Extract Features"
      ]
    },
    {
      "cell_type": "code",
      "metadata": {
        "id": "n8TBemmQrjXV",
        "colab_type": "code",
        "colab": {}
      },
      "source": [
        "cv = CountVectorizer()\n",
        "features = cv.fit_transform(train_x)"
      ],
      "execution_count": 0,
      "outputs": []
    },
    {
      "cell_type": "markdown",
      "metadata": {
        "id": "D4v0pPlkr5K-",
        "colab_type": "text"
      },
      "source": [
        "Step 4 - Build Model"
      ]
    },
    {
      "cell_type": "code",
      "metadata": {
        "id": "RuwkgM6GtC6J",
        "colab_type": "code",
        "colab": {}
      },
      "source": [
        "tuned_parameters = {'kernel': ['linear','rbf'],'gamma': [1e-3, 1e-4], 'C':[1,10,100,1000]}\n",
        "model = GridSearchCV(svm.SVC(),tuned_parameters)"
      ],
      "execution_count": 0,
      "outputs": []
    },
    {
      "cell_type": "code",
      "metadata": {
        "id": "gfbWTqG-rzji",
        "colab_type": "code",
        "outputId": "cd284be4-3747-4141-cdff-8457e7edf5ae",
        "colab": {
          "base_uri": "https://localhost:8080/",
          "height": 87
        }
      },
      "source": [
        "model.fit(features, train_y)\n",
        "\n",
        "print(model.best_params_)"
      ],
      "execution_count": 0,
      "outputs": [
        {
          "output_type": "stream",
          "text": [
            "/usr/local/lib/python3.6/dist-packages/sklearn/model_selection/_split.py:1978: FutureWarning: The default value of cv will change from 3 to 5 in version 0.22. Specify it explicitly to silence this warning.\n",
            "  warnings.warn(CV_WARNING, FutureWarning)\n"
          ],
          "name": "stderr"
        },
        {
          "output_type": "stream",
          "text": [
            "{'C': 10, 'gamma': 0.001, 'kernel': 'linear'}\n"
          ],
          "name": "stdout"
        }
      ]
    },
    {
      "cell_type": "markdown",
      "metadata": {
        "id": "NOox16SysVhZ",
        "colab_type": "text"
      },
      "source": [
        "Step 5 - Test Accuracy"
      ]
    },
    {
      "cell_type": "code",
      "metadata": {
        "id": "WZuX-hqGsZXP",
        "colab_type": "code",
        "outputId": "d9335002-59c5-4aff-f772-032538113c1d",
        "colab": {
          "base_uri": "https://localhost:8080/",
          "height": 34
        }
      },
      "source": [
        "features_test = cv.transform(valid_x)\n",
        "print(\"Accuracy of the Model is : \", model.score(features_test, valid_y))"
      ],
      "execution_count": 0,
      "outputs": [
        {
          "output_type": "stream",
          "text": [
            "Accuracy of the Model is :  0.9842067480258435\n"
          ],
          "name": "stdout"
        }
      ]
    }
  ]
}