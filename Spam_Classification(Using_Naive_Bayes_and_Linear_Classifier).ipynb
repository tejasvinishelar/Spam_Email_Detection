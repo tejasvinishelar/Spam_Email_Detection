{
  "nbformat": 4,
  "nbformat_minor": 0,
  "metadata": {
    "colab": {
      "name": "Spam_Classification(Using Naive Bayes and Linear Classifier).ipynb",
      "provenance": [],
      "collapsed_sections": []
    },
    "kernelspec": {
      "name": "python3",
      "display_name": "Python 3"
    }
  },
  "cells": [
    {
      "cell_type": "code",
      "metadata": {
        "id": "I14nSxJK4H9Q",
        "colab_type": "code",
        "colab": {}
      },
      "source": [
        "#@title 1. Understanding Data"
      ],
      "execution_count": 0,
      "outputs": []
    },
    {
      "cell_type": "code",
      "metadata": {
        "id": "7liYWCQDSODV",
        "colab_type": "code",
        "colab": {}
      },
      "source": [
        "import pandas as pd "
      ],
      "execution_count": 0,
      "outputs": []
    },
    {
      "cell_type": "code",
      "metadata": {
        "id": "D8xCKmXMwbzb",
        "colab_type": "code",
        "colab": {}
      },
      "source": [
        "#Read the dataset into dataframe\n",
        "#from google.colab import drive\n",
        "#drive.mount('/content/drive')\n",
        "df = pd.read_csv('/content/drive/My Drive/Spam_Detection/spamEmails.csv')"
      ],
      "execution_count": 0,
      "outputs": []
    },
    {
      "cell_type": "code",
      "metadata": {
        "id": "DyN_y3-sxIIr",
        "colab_type": "code",
        "outputId": "0b6b0b59-d78e-48fe-85c0-ab4c2a03358c",
        "colab": {
          "base_uri": "https://localhost:8080/",
          "height": 195
        }
      },
      "source": [
        "df.head()   #Read first 5 occurances"
      ],
      "execution_count": 0,
      "outputs": [
        {
          "output_type": "execute_result",
          "data": {
            "text/html": [
              "<div>\n",
              "<style scoped>\n",
              "    .dataframe tbody tr th:only-of-type {\n",
              "        vertical-align: middle;\n",
              "    }\n",
              "\n",
              "    .dataframe tbody tr th {\n",
              "        vertical-align: top;\n",
              "    }\n",
              "\n",
              "    .dataframe thead th {\n",
              "        text-align: right;\n",
              "    }\n",
              "</style>\n",
              "<table border=\"1\" class=\"dataframe\">\n",
              "  <thead>\n",
              "    <tr style=\"text-align: right;\">\n",
              "      <th></th>\n",
              "      <th>Label</th>\n",
              "      <th>EmailText</th>\n",
              "    </tr>\n",
              "  </thead>\n",
              "  <tbody>\n",
              "    <tr>\n",
              "      <th>0</th>\n",
              "      <td>ham</td>\n",
              "      <td>Go until jurong point, crazy.. Available only ...</td>\n",
              "    </tr>\n",
              "    <tr>\n",
              "      <th>1</th>\n",
              "      <td>ham</td>\n",
              "      <td>Ok lar... Joking wif u oni...</td>\n",
              "    </tr>\n",
              "    <tr>\n",
              "      <th>2</th>\n",
              "      <td>spam</td>\n",
              "      <td>Free entry in 2 a wkly comp to win FA Cup fina...</td>\n",
              "    </tr>\n",
              "    <tr>\n",
              "      <th>3</th>\n",
              "      <td>ham</td>\n",
              "      <td>U dun say so early hor... U c already then say...</td>\n",
              "    </tr>\n",
              "    <tr>\n",
              "      <th>4</th>\n",
              "      <td>ham</td>\n",
              "      <td>Nah I don't think he goes to usf, he lives aro...</td>\n",
              "    </tr>\n",
              "  </tbody>\n",
              "</table>\n",
              "</div>"
            ],
            "text/plain": [
              "  Label                                          EmailText\n",
              "0   ham  Go until jurong point, crazy.. Available only ...\n",
              "1   ham                      Ok lar... Joking wif u oni...\n",
              "2  spam  Free entry in 2 a wkly comp to win FA Cup fina...\n",
              "3   ham  U dun say so early hor... U c already then say...\n",
              "4   ham  Nah I don't think he goes to usf, he lives aro..."
            ]
          },
          "metadata": {
            "tags": []
          },
          "execution_count": 77
        }
      ]
    },
    {
      "cell_type": "code",
      "metadata": {
        "id": "8lEbakiU2tGI",
        "colab_type": "code",
        "outputId": "59a077a6-1308-42fa-df89-96d21ba2582a",
        "colab": {
          "base_uri": "https://localhost:8080/",
          "height": 34
        }
      },
      "source": [
        "df.columns #understanding the data"
      ],
      "execution_count": 0,
      "outputs": [
        {
          "output_type": "execute_result",
          "data": {
            "text/plain": [
              "Index(['Label', 'EmailText'], dtype='object')"
            ]
          },
          "metadata": {
            "tags": []
          },
          "execution_count": 78
        }
      ]
    },
    {
      "cell_type": "code",
      "metadata": {
        "id": "rsmEWe9H4UA-",
        "colab_type": "code",
        "colab": {}
      },
      "source": [
        "import pandas as pd\n",
        "import numpy as np\n",
        "import matplotlib.pyplot as plt\n",
        "\n",
        "from nltk.stem import SnowballStemmer\n",
        "from nltk.stem import PorterStemmer\n",
        "from nltk.corpus import stopwords\n",
        "\n",
        "from textblob import TextBlob\n",
        "from textblob import Word"
      ],
      "execution_count": 0,
      "outputs": []
    },
    {
      "cell_type": "code",
      "metadata": {
        "id": "ByexgmL693-d",
        "colab_type": "code",
        "colab": {}
      },
      "source": [
        "# applying preprocessing steps e.g lowercase, stemming, lemmatization\n",
        "df['EmailText'] = df['EmailText'].apply(lambda x:' '.join(x.lower() for x in x.split()))"
      ],
      "execution_count": 0,
      "outputs": []
    },
    {
      "cell_type": "code",
      "metadata": {
        "id": "7Ge7SM53Dphq",
        "colab_type": "code",
        "outputId": "b2b3833f-2420-4628-f29a-890bfbee14b8",
        "colab": {
          "base_uri": "https://localhost:8080/",
          "height": 118
        }
      },
      "source": [
        "df['EmailText'].head()"
      ],
      "execution_count": 0,
      "outputs": [
        {
          "output_type": "execute_result",
          "data": {
            "text/plain": [
              "0    go until jurong point, crazy.. available only ...\n",
              "1                        ok lar... joking wif u oni...\n",
              "2    free entry in 2 a wkly comp to win fa cup fina...\n",
              "3    u dun say so early hor... u c already then say...\n",
              "4    nah i don't think he goes to usf, he lives aro...\n",
              "Name: EmailText, dtype: object"
            ]
          },
          "metadata": {
            "tags": []
          },
          "execution_count": 81
        }
      ]
    },
    {
      "cell_type": "code",
      "metadata": {
        "id": "UXDlFIlID4IH",
        "colab_type": "code",
        "outputId": "dcd68dd2-9ce2-4ec6-99b9-77baeccf8c95",
        "colab": {
          "base_uri": "https://localhost:8080/",
          "height": 67
        }
      },
      "source": [
        "import nltk\n",
        "nltk.download(\"stopwords\")"
      ],
      "execution_count": 0,
      "outputs": [
        {
          "output_type": "stream",
          "text": [
            "[nltk_data] Downloading package stopwords to /root/nltk_data...\n",
            "[nltk_data]   Package stopwords is already up-to-date!\n"
          ],
          "name": "stdout"
        },
        {
          "output_type": "execute_result",
          "data": {
            "text/plain": [
              "True"
            ]
          },
          "metadata": {
            "tags": []
          },
          "execution_count": 82
        }
      ]
    },
    {
      "cell_type": "code",
      "metadata": {
        "id": "uTAkchyOFBBY",
        "colab_type": "code",
        "colab": {}
      },
      "source": [
        "# create English stop words dictionary\n",
        "stop_words = stopwords.words('english')"
      ],
      "execution_count": 0,
      "outputs": []
    },
    {
      "cell_type": "code",
      "metadata": {
        "id": "ButAaWl9GmXc",
        "colab_type": "code",
        "colab": {}
      },
      "source": [
        "# remove stopwords from 'email' feature \n",
        "df['EmailText'] = df['EmailText'].apply(lambda x: ' '.join(x for x in x.split() if x not in stop_words))"
      ],
      "execution_count": 0,
      "outputs": []
    },
    {
      "cell_type": "code",
      "metadata": {
        "id": "FVs9BC6rGzs1",
        "colab_type": "code",
        "outputId": "6780f1bd-5601-466d-afb1-9f50f7bc3661",
        "colab": {
          "base_uri": "https://localhost:8080/",
          "height": 118
        }
      },
      "source": [
        "df['EmailText'].head()"
      ],
      "execution_count": 0,
      "outputs": [
        {
          "output_type": "execute_result",
          "data": {
            "text/plain": [
              "0    go jurong point, crazy.. available bugis n gre...\n",
              "1                        ok lar... joking wif u oni...\n",
              "2    free entry 2 wkly comp win fa cup final tkts 2...\n",
              "3            u dun say early hor... u c already say...\n",
              "4              nah think goes usf, lives around though\n",
              "Name: EmailText, dtype: object"
            ]
          },
          "metadata": {
            "tags": []
          },
          "execution_count": 85
        }
      ]
    },
    {
      "cell_type": "code",
      "metadata": {
        "id": "Cw5N5DCEHJL7",
        "colab_type": "code",
        "colab": {}
      },
      "source": [
        "# next, normalize each sentence using PorterStemmer algorithm \n",
        "# (1) create PorterStemmer object\n",
        "st = PorterStemmer()"
      ],
      "execution_count": 0,
      "outputs": []
    },
    {
      "cell_type": "code",
      "metadata": {
        "id": "0OGSV4hRKLFh",
        "colab_type": "code",
        "colab": {}
      },
      "source": [
        "# (2) apply stemming on each email sentence\n",
        "df['EmailText'] = df['EmailText'].apply(lambda x : ' '.join(st.stem(word) for word in x.split()))"
      ],
      "execution_count": 0,
      "outputs": []
    },
    {
      "cell_type": "code",
      "metadata": {
        "id": "NOpMgGoxKpAF",
        "colab_type": "code",
        "outputId": "c6f1a938-ffa8-457a-8f15-a328753575d2",
        "colab": {
          "base_uri": "https://localhost:8080/",
          "height": 118
        }
      },
      "source": [
        "df['EmailText'].head()"
      ],
      "execution_count": 0,
      "outputs": [
        {
          "output_type": "execute_result",
          "data": {
            "text/plain": [
              "0    go jurong point, crazy.. avail bugi n great wo...\n",
              "1                          ok lar... joke wif u oni...\n",
              "2    free entri 2 wkli comp win fa cup final tkt 21...\n",
              "3            u dun say earli hor... u c alreadi say...\n",
              "4                nah think goe usf, live around though\n",
              "Name: EmailText, dtype: object"
            ]
          },
          "metadata": {
            "tags": []
          },
          "execution_count": 88
        }
      ]
    },
    {
      "cell_type": "code",
      "metadata": {
        "id": "4zjTKvzkKthP",
        "colab_type": "code",
        "outputId": "ca1a9430-430a-4978-95ea-3ba016f8fcdb",
        "colab": {
          "base_uri": "https://localhost:8080/",
          "height": 67
        }
      },
      "source": [
        "# apply lemmatization\n",
        "import nltk\n",
        "nltk.download('wordnet')"
      ],
      "execution_count": 0,
      "outputs": [
        {
          "output_type": "stream",
          "text": [
            "[nltk_data] Downloading package wordnet to /root/nltk_data...\n",
            "[nltk_data]   Unzipping corpora/wordnet.zip.\n"
          ],
          "name": "stdout"
        },
        {
          "output_type": "execute_result",
          "data": {
            "text/plain": [
              "True"
            ]
          },
          "metadata": {
            "tags": []
          },
          "execution_count": 91
        }
      ]
    },
    {
      "cell_type": "code",
      "metadata": {
        "id": "sfeH4DXzMnO9",
        "colab_type": "code",
        "colab": {}
      },
      "source": [
        "df['EmailText'] = df['EmailText'].apply(lambda x: ' '.join(Word(word).lemmatize() for word in x.split()))"
      ],
      "execution_count": 0,
      "outputs": []
    },
    {
      "cell_type": "code",
      "metadata": {
        "id": "pMhdQRF_M-g1",
        "colab_type": "code",
        "outputId": "ac41725c-2b39-4dde-df07-09ce6fe3052d",
        "colab": {
          "base_uri": "https://localhost:8080/",
          "height": 195
        }
      },
      "source": [
        "# check fot the last change\n",
        "df.head()"
      ],
      "execution_count": 0,
      "outputs": [
        {
          "output_type": "execute_result",
          "data": {
            "text/html": [
              "<div>\n",
              "<style scoped>\n",
              "    .dataframe tbody tr th:only-of-type {\n",
              "        vertical-align: middle;\n",
              "    }\n",
              "\n",
              "    .dataframe tbody tr th {\n",
              "        vertical-align: top;\n",
              "    }\n",
              "\n",
              "    .dataframe thead th {\n",
              "        text-align: right;\n",
              "    }\n",
              "</style>\n",
              "<table border=\"1\" class=\"dataframe\">\n",
              "  <thead>\n",
              "    <tr style=\"text-align: right;\">\n",
              "      <th></th>\n",
              "      <th>Label</th>\n",
              "      <th>EmailText</th>\n",
              "    </tr>\n",
              "  </thead>\n",
              "  <tbody>\n",
              "    <tr>\n",
              "      <th>0</th>\n",
              "      <td>ham</td>\n",
              "      <td>go jurong point, crazy.. avail bugi n great wo...</td>\n",
              "    </tr>\n",
              "    <tr>\n",
              "      <th>1</th>\n",
              "      <td>ham</td>\n",
              "      <td>ok lar... joke wif u oni...</td>\n",
              "    </tr>\n",
              "    <tr>\n",
              "      <th>2</th>\n",
              "      <td>spam</td>\n",
              "      <td>free entri 2 wkli comp win fa cup final tkt 21...</td>\n",
              "    </tr>\n",
              "    <tr>\n",
              "      <th>3</th>\n",
              "      <td>ham</td>\n",
              "      <td>u dun say earli hor... u c alreadi say...</td>\n",
              "    </tr>\n",
              "    <tr>\n",
              "      <th>4</th>\n",
              "      <td>ham</td>\n",
              "      <td>nah think goe usf, live around though</td>\n",
              "    </tr>\n",
              "  </tbody>\n",
              "</table>\n",
              "</div>"
            ],
            "text/plain": [
              "  Label                                          EmailText\n",
              "0   ham  go jurong point, crazy.. avail bugi n great wo...\n",
              "1   ham                        ok lar... joke wif u oni...\n",
              "2  spam  free entri 2 wkli comp win fa cup final tkt 21...\n",
              "3   ham          u dun say earli hor... u c alreadi say...\n",
              "4   ham              nah think goe usf, live around though"
            ]
          },
          "metadata": {
            "tags": []
          },
          "execution_count": 97
        }
      ]
    },
    {
      "cell_type": "code",
      "metadata": {
        "id": "Ru8zcR4hNC1N",
        "colab_type": "code",
        "colab": {}
      },
      "source": [
        "#@title 3. Feature Classification\n"
      ],
      "execution_count": 0,
      "outputs": []
    },
    {
      "cell_type": "code",
      "metadata": {
        "id": "Fz32ZvrTNOwE",
        "colab_type": "code",
        "colab": {}
      },
      "source": [
        "import sklearn.feature_extraction.text as text\n",
        "from sklearn.feature_extraction.text import CountVectorizer\n",
        "from sklearn.feature_extraction.text import TfidfVectorizer\n",
        "from sklearn.model_selection import train_test_split\n",
        "from sklearn import model_selection, preprocessing, naive_bayes, metrics, svm\n",
        "import sklearn.linear_model as lm"
      ],
      "execution_count": 0,
      "outputs": []
    },
    {
      "cell_type": "code",
      "metadata": {
        "id": "qyRL7AoGNfMW",
        "colab_type": "code",
        "colab": {}
      },
      "source": [
        "# next, split dataset into training and validation using sklearn\n",
        "train_x, valid_x, train_y, valid_y = model_selection.train_test_split(df['EmailText'], df['Label'])   #x - emails and Y - Labels (spam/ham)"
      ],
      "execution_count": 0,
      "outputs": []
    },
    {
      "cell_type": "code",
      "metadata": {
        "id": "WJPdQxQjNjbr",
        "colab_type": "code",
        "colab": {}
      },
      "source": [
        "# TF-IDF feature generation for a maximum of 5000 features\n",
        "encoder = preprocessing.LabelEncoder()      #Label Encoding refers to converting the labels into numeric form so as to convert it into the machine-readable form.\n",
        "train_y = encoder.fit_transform(train_y)\n",
        "valid_y = encoder.fit_transform(valid_y)      "
      ],
      "execution_count": 0,
      "outputs": []
    },
    {
      "cell_type": "code",
      "metadata": {
        "id": "oUZHYS_HiuiL",
        "colab_type": "code",
        "outputId": "339b55c7-d28d-4284-f650-8349f120f318",
        "colab": {
          "base_uri": "https://localhost:8080/",
          "height": 34
        }
      },
      "source": [
        "train_y"
      ],
      "execution_count": 0,
      "outputs": [
        {
          "output_type": "execute_result",
          "data": {
            "text/plain": [
              "array([1, 1, 0, ..., 0, 0, 0])"
            ]
          },
          "metadata": {
            "tags": []
          },
          "execution_count": 100
        }
      ]
    },
    {
      "cell_type": "code",
      "metadata": {
        "id": "pV-lO-G0ixTX",
        "colab_type": "code",
        "outputId": "dffcb26d-3367-494e-f79e-93697d574b4a",
        "colab": {
          "base_uri": "https://localhost:8080/",
          "height": 34
        }
      },
      "source": [
        "valid_y"
      ],
      "execution_count": 0,
      "outputs": [
        {
          "output_type": "execute_result",
          "data": {
            "text/plain": [
              "array([0, 0, 0, ..., 0, 1, 0])"
            ]
          },
          "metadata": {
            "tags": []
          },
          "execution_count": 101
        }
      ]
    },
    {
      "cell_type": "code",
      "metadata": {
        "id": "NDd9UtILizrN",
        "colab_type": "code",
        "colab": {}
      },
      "source": [
        "# create TF-IDF object which takes 5000 features\n",
        "tfidf_vect = TfidfVectorizer(analyzer='word', token_pattern=r'\\w{1,}', max_features=5000)"
      ],
      "execution_count": 0,
      "outputs": []
    },
    {
      "cell_type": "code",
      "metadata": {
        "id": "uqr8MlDrnLyn",
        "colab_type": "code",
        "outputId": "70994ac2-6f80-457e-fef5-08bc1550705d",
        "colab": {
          "base_uri": "https://localhost:8080/",
          "height": 134
        }
      },
      "source": [
        "tfidf_vect.fit(df['EmailText'])"
      ],
      "execution_count": 0,
      "outputs": [
        {
          "output_type": "execute_result",
          "data": {
            "text/plain": [
              "TfidfVectorizer(analyzer='word', binary=False, decode_error='strict',\n",
              "                dtype=<class 'numpy.float64'>, encoding='utf-8',\n",
              "                input='content', lowercase=True, max_df=1.0, max_features=5000,\n",
              "                min_df=1, ngram_range=(1, 1), norm='l2', preprocessor=None,\n",
              "                smooth_idf=True, stop_words=None, strip_accents=None,\n",
              "                sublinear_tf=False, token_pattern='\\\\w{1,}', tokenizer=None,\n",
              "                use_idf=True, vocabulary=None)"
            ]
          },
          "metadata": {
            "tags": []
          },
          "execution_count": 104
        }
      ]
    },
    {
      "cell_type": "code",
      "metadata": {
        "id": "lz-x2RwxnPz2",
        "colab_type": "code",
        "colab": {}
      },
      "source": [
        "xtrain_tfidf = tfidf_vect.transform(train_x)"
      ],
      "execution_count": 0,
      "outputs": []
    },
    {
      "cell_type": "code",
      "metadata": {
        "id": "905tYeYGnUsk",
        "colab_type": "code",
        "outputId": "3473679b-23fc-444f-c092-98e5734f83e2",
        "colab": {
          "base_uri": "https://localhost:8080/",
          "height": 50
        }
      },
      "source": [
        "xtrain_tfidf"
      ],
      "execution_count": 0,
      "outputs": [
        {
          "output_type": "execute_result",
          "data": {
            "text/plain": [
              "<4179x5000 sparse matrix of type '<class 'numpy.float64'>'\n",
              "\twith 39294 stored elements in Compressed Sparse Row format>"
            ]
          },
          "metadata": {
            "tags": []
          },
          "execution_count": 106
        }
      ]
    },
    {
      "cell_type": "code",
      "metadata": {
        "id": "P1YprUYOnWVR",
        "colab_type": "code",
        "colab": {}
      },
      "source": [
        "xvalid_tfidf = tfidf_vect.transform(valid_x)"
      ],
      "execution_count": 0,
      "outputs": []
    },
    {
      "cell_type": "code",
      "metadata": {
        "id": "pInOlEj5nX7k",
        "colab_type": "code",
        "outputId": "e7e8e0fc-0f91-45dd-921a-3db9e8ad53dd",
        "colab": {
          "base_uri": "https://localhost:8080/",
          "height": 50
        }
      },
      "source": [
        "xvalid_tfidf"
      ],
      "execution_count": 0,
      "outputs": [
        {
          "output_type": "execute_result",
          "data": {
            "text/plain": [
              "<1393x5000 sparse matrix of type '<class 'numpy.float64'>'\n",
              "\twith 12458 stored elements in Compressed Sparse Row format>"
            ]
          },
          "metadata": {
            "tags": []
          },
          "execution_count": 108
        }
      ]
    },
    {
      "cell_type": "code",
      "metadata": {
        "id": "cGRhNxEbnae8",
        "colab_type": "code",
        "outputId": "373faf07-5996-4f3e-f62c-45f47ee94583",
        "colab": {
          "base_uri": "https://localhost:8080/",
          "height": 50
        }
      },
      "source": [
        "xtrain_tfidf.data"
      ],
      "execution_count": 0,
      "outputs": [
        {
          "output_type": "execute_result",
          "data": {
            "text/plain": [
              "array([0.23142803, 0.20074799, 0.16990768, ..., 0.42231885, 0.2763225 ,\n",
              "       0.31066976])"
            ]
          },
          "metadata": {
            "tags": []
          },
          "execution_count": 109
        }
      ]
    },
    {
      "cell_type": "code",
      "metadata": {
        "id": "fGKb_FDfndCB",
        "colab_type": "code",
        "outputId": "b8dee368-f7e4-45e0-8249-a618d6b1f577",
        "colab": {
          "base_uri": "https://localhost:8080/",
          "height": 50
        }
      },
      "source": [
        "xvalid_tfidf.data"
      ],
      "execution_count": 0,
      "outputs": [
        {
          "output_type": "execute_result",
          "data": {
            "text/plain": [
              "array([0.16142324, 0.20565077, 0.29880906, ..., 0.25733305, 0.33809443,\n",
              "       1.        ])"
            ]
          },
          "metadata": {
            "tags": []
          },
          "execution_count": 110
        }
      ]
    },
    {
      "cell_type": "code",
      "metadata": {
        "id": "WuJ4g_gjnfzK",
        "colab_type": "code",
        "colab": {}
      },
      "source": [
        "#@title 4. Model Training and Evaluation\n"
      ],
      "execution_count": 0,
      "outputs": []
    },
    {
      "cell_type": "code",
      "metadata": {
        "id": "uCpXEToAnndK",
        "colab_type": "code",
        "colab": {}
      },
      "source": [
        "# define a function for training any given model\n",
        "def train_model(classifier, feature_vector_train, label):\n",
        "    # fit the training dataset on the classifier\n",
        "    classifier.fit(feature_vector_train, label)\n",
        "    # predict the labels on validation dataset\n",
        "    return classifier"
      ],
      "execution_count": 0,
      "outputs": []
    },
    {
      "cell_type": "markdown",
      "metadata": {
        "id": "qH5h-m8an4f3",
        "colab_type": "text"
      },
      "source": [
        " **- Naive Bayes Classifier**\n",
        "\n",
        "\n",
        "\n",
        "\n"
      ]
    },
    {
      "cell_type": "code",
      "metadata": {
        "id": "nyFSRfnonpLI",
        "colab_type": "code",
        "colab": {}
      },
      "source": [
        "nb_model = train_model(naive_bayes.MultinomialNB(alpha=0.2), xtrain_tfidf, train_y)"
      ],
      "execution_count": 0,
      "outputs": []
    },
    {
      "cell_type": "code",
      "metadata": {
        "id": "mXdOKKygnrBy",
        "colab_type": "code",
        "outputId": "35ded70b-ac96-4cf0-ea01-8c3446d61e88",
        "colab": {
          "base_uri": "https://localhost:8080/",
          "height": 34
        }
      },
      "source": [
        "# Naive Bayes accuracy score\n",
        "predictions = nb_model.predict(xvalid_tfidf)\n",
        "nb_accuracy = metrics.accuracy_score(predictions, valid_y)\n",
        "print(\"Accuracy: \", nb_accuracy)"
      ],
      "execution_count": 0,
      "outputs": [
        {
          "output_type": "stream",
          "text": [
            "Accuracy:  0.9870782483847811\n"
          ],
          "name": "stdout"
        }
      ]
    },
    {
      "cell_type": "markdown",
      "metadata": {
        "id": "y8J-H1w7of1F",
        "colab_type": "text"
      },
      "source": [
        "**- Linear Classifier**"
      ]
    },
    {
      "cell_type": "code",
      "metadata": {
        "id": "S75dGjLKoqcW",
        "colab_type": "code",
        "outputId": "fa0a4bf7-9db5-4cb1-f85c-ec38d0edaa13",
        "colab": {
          "base_uri": "https://localhost:8080/",
          "height": 70
        }
      },
      "source": [
        "# Linear Classifier on Word Level TF IDF Vectors\n",
        "linear_model = train_model(lm.LogisticRegression(), xtrain_tfidf, train_y)"
      ],
      "execution_count": 0,
      "outputs": [
        {
          "output_type": "stream",
          "text": [
            "/usr/local/lib/python3.6/dist-packages/sklearn/linear_model/logistic.py:432: FutureWarning: Default solver will be changed to 'lbfgs' in 0.22. Specify a solver to silence this warning.\n",
            "  FutureWarning)\n"
          ],
          "name": "stderr"
        }
      ]
    },
    {
      "cell_type": "code",
      "metadata": {
        "id": "ueyCkOubotya",
        "colab_type": "code",
        "outputId": "21f0af5a-f2b1-4e7e-9da1-72211b903e38",
        "colab": {
          "base_uri": "https://localhost:8080/",
          "height": 34
        }
      },
      "source": [
        "# Linear model accuracy score\n",
        "predictions = linear_model.predict(xvalid_tfidf)\n",
        "linear_model_accuracy = metrics.accuracy_score(predictions, valid_y)\n",
        "print(\"Accuracy: \", linear_model_accuracy)"
      ],
      "execution_count": 0,
      "outputs": [
        {
          "output_type": "stream",
          "text": [
            "Accuracy:  0.9641062455132807\n"
          ],
          "name": "stdout"
        }
      ]
    },
    {
      "cell_type": "code",
      "metadata": {
        "id": "2zCxNghoowNc",
        "colab_type": "code",
        "colab": {}
      },
      "source": [
        ""
      ],
      "execution_count": 0,
      "outputs": []
    }
  ]
}